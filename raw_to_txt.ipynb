{
 "cells": [
  {
   "cell_type": "code",
   "execution_count": 3,
   "id": "8eebea2c",
   "metadata": {},
   "outputs": [],
   "source": [
    "import nilearn \n",
    "from nilearn.image import load_img\n",
    "import os\n",
    "import numpy as np\n",
    "import pandas as pd\n",
    "import subprocess\n",
    "import matplotlib.pyplot as plt"
   ]
  },
  {
   "cell_type": "code",
   "execution_count": 2,
   "id": "34718778",
   "metadata": {},
   "outputs": [],
   "source": [
    "from nilearn.maskers import NiftiLabelsMasker"
   ]
  },
  {
   "cell_type": "code",
   "execution_count": 8,
   "id": "a10e4801",
   "metadata": {},
   "outputs": [],
   "source": [
    "PARC_SAVE_DIR = \"/home/shivansh.seth/adni/parcellated_output\"\n",
    "PREPROC_DATA_DIR = \"/scratch/shivansh.seth/adni/output/preproc/\""
   ]
  },
  {
   "cell_type": "code",
   "execution_count": 10,
   "id": "43d1b1d8",
   "metadata": {
    "scrolled": true
   },
   "outputs": [
    {
     "data": {
      "text/plain": [
       "['sub-019_S_5012',\n",
       " 'sub-019_S_4477',\n",
       " 'sub-018_S_5074',\n",
       " 'sub-136_S_0186',\n",
       " 'sub-019_S_4252',\n",
       " 'sub-010_S_4442',\n",
       " 'sub-019_S_4835',\n",
       " 'sub-100_S_5106',\n",
       " 'sub-019_S_4549',\n",
       " 'sub-002_S_5018',\n",
       " 'sub-130_S_4971',\n",
       " 'sub-130_S_4352',\n",
       " 'sub-130_S_4984',\n",
       " 'sub-129_S_4371',\n",
       " 'sub-130_S_0969',\n",
       " 'sub-031_S_4496',\n",
       " 'sub-002_S_4225',\n",
       " 'sub-136_S_4727',\n",
       " 'sub-012_S_4026',\n",
       " 'sub-130_S_4982',\n",
       " 'sub-018_S_4349',\n",
       " 'sub-100_S_1286',\n",
       " 'sub-031_S_4024',\n",
       " 'sub-019_S_5019',\n",
       " 'sub-002_S_0413',\n",
       " 'sub-136_S_4993',\n",
       " 'sub-006_S_0731',\n",
       " 'sub-006_S_4153',\n",
       " 'sub-136_S_4433',\n",
       " 'sub-012_S_4643',\n",
       " 'sub-010_S_4345',\n",
       " 'sub-031_S_4021',\n",
       " 'sub-100_S_5246',\n",
       " 'sub-013_S_4731',\n",
       " 'sub-129_S_0778',\n",
       " 'sub-031_S_4474',\n",
       " 'sub-002_S_1280',\n",
       " 'sub-006_S_4150',\n",
       " 'sub-018_S_5240',\n",
       " 'sub-006_S_4485',\n",
       " 'sub-018_S_4257',\n",
       " 'sub-006_S_4867',\n",
       " 'sub-129_S_4369',\n",
       " 'sub-130_S_4660',\n",
       " 'sub-013_S_4579',\n",
       " 'sub-013_S_5071',\n",
       " 'sub-031_S_4218',\n",
       " 'sub-002_S_4270',\n",
       " 'sub-129_S_4422',\n",
       " 'sub-053_S_4578',\n",
       " 'sub-130_S_4730',\n",
       " 'sub-130_S_4641',\n",
       " 'sub-006_S_4357',\n",
       " 'sub-013_S_4616',\n",
       " 'sub-018_S_4400',\n",
       " 'sub-130_S_5231',\n",
       " 'sub-100_S_4469',\n",
       " 'sub-006_S_4449',\n",
       " 'sub-031_S_4032',\n",
       " 'sub-018_S_4696',\n",
       " 'sub-130_S_4997',\n",
       " 'sub-130_S_4589',\n",
       " 'sub-006_S_0498',\n",
       " 'sub-130_S_5006',\n",
       " 'sub-136_S_4726',\n",
       " 'sub-053_S_5208',\n",
       " 'sub-130_S_5059',\n",
       " 'sub-018_S_4733',\n",
       " 'sub-002_S_4262',\n",
       " 'sub-006_S_4546',\n",
       " 'sub-018_S_4399',\n",
       " 'sub-002_S_4264',\n",
       " 'sub-136_S_4269',\n",
       " 'sub-002_S_1261',\n",
       " 'sub-002_S_4213',\n",
       " 'sub-130_S_4343',\n",
       " 'sub-129_S_4396',\n",
       " 'sub-002_S_0295',\n",
       " 'sub-006_S_4192',\n",
       " 'sub-012_S_4545',\n",
       " 'sub-131_S_5138',\n",
       " 'sub-100_S_4511',\n",
       " 'sub-013_S_4580',\n",
       " 'sub-019_S_4367',\n",
       " 'sub-018_S_4313',\n",
       " 'sub-010_S_5163',\n",
       " 'sub-053_S_5070',\n",
       " 'sub-100_S_0069',\n",
       " 'sub-130_S_4990']"
      ]
     },
     "execution_count": 10,
     "metadata": {},
     "output_type": "execute_result"
    }
   ],
   "source": [
    "subs = os.listdir(PREPROC_DATA_DIR)\n",
    "subs"
   ]
  },
  {
   "cell_type": "code",
   "execution_count": 11,
   "id": "c21e9a83",
   "metadata": {},
   "outputs": [],
   "source": [
    "# Import necessary libraries\n",
    "from nilearn.maskers import NiftiLabelsMasker\n",
    "from nilearn import datasets\n",
    "\n",
    "# Load the AAL atlas\n",
    "aal = datasets.fetch_atlas_aal()\n",
    "atlas_filename = aal.maps\n",
    "labels = aal.labels\n",
    "\n",
    "\n",
    "# Save the ROI names and indices\n",
    "roi_filename = '/home/shivansh.seth/adni/roi_labels.txt'\n",
    "with open(roi_filename, 'w') as f:\n",
    "    f.write('ROI_index,ROI_name\\n')\n",
    "    for i, label in enumerate(labels):\n",
    "        f.write(f'{i},{label}\\n')"
   ]
  },
  {
   "cell_type": "code",
   "execution_count": 14,
   "id": "a188f7e4",
   "metadata": {},
   "outputs": [
    {
     "name": "stderr",
     "output_type": "stream",
     "text": [
      "/scratch/shivansh.seth/preproc/lib/python3.11/site-packages/nilearn/maskers/nifti_labels_masker.py:578: UserWarning: After resampling the label image to the data image, the following labels were removed: {9130, 5101, 5102, 5201, 5202, 9140, 5301, 5302, 9150}. Label image only contains 108 labels (including background).\n",
      "  warnings.warn(\"After resampling the label image to the \"\n"
     ]
    }
   ],
   "source": [
    "\n",
    "for sub in subs:\n",
    "\n",
    "    # Load the raw fMRI data\n",
    "    fmri_filename = f'/scratch/shivansh.seth/adni/output/preproc/{sub}/fwhm-5_sfunc.nii'\n",
    "\n",
    "    # Define the NiftiLabelsMasker object with the AAL atlas\n",
    "    masker = NiftiLabelsMasker(labels_img=atlas_filename, standardize=True)\n",
    "\n",
    "    # Apply the masker to the fMRI data\n",
    "    parcellated_data = masker.fit_transform(fmri_filename)\n",
    "    np.savetxt(os.path.join(PARC_SAVE_DIR, f\"{sub}_timeseries.txt\"), parcellated_data.T)\n",
    "\n",
    "    # Save the parcellated data as a new Nifti file\n",
    "    # parcellated_filename = 'path/to/your/parcellated_fmri.nii'\n",
    "    # masker.inverse_transform(parcellated_data).to_filename(parcellated_filename)\n",
    "\n"
   ]
  },
  {
   "cell_type": "code",
   "execution_count": 7,
   "id": "eee778df",
   "metadata": {},
   "outputs": [
    {
     "data": {
      "text/plain": [
       "(140, 116)"
      ]
     },
     "execution_count": 7,
     "metadata": {},
     "output_type": "execute_result"
    }
   ],
   "source": [
    "parcellated_data.shape"
   ]
  }
 ],
 "metadata": {
  "kernelspec": {
   "display_name": "Python 3 (ipykernel)",
   "language": "python",
   "name": "python3"
  },
  "language_info": {
   "codemirror_mode": {
    "name": "ipython",
    "version": 3
   },
   "file_extension": ".py",
   "mimetype": "text/x-python",
   "name": "python",
   "nbconvert_exporter": "python",
   "pygments_lexer": "ipython3",
   "version": "3.11.0"
  }
 },
 "nbformat": 4,
 "nbformat_minor": 5
}
