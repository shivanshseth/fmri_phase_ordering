{
 "cells": [
  {
   "cell_type": "code",
   "execution_count": 3,
   "metadata": {},
   "outputs": [],
   "source": [
    "import numpy as np\n",
    "import glob\n",
    "import os \n",
    "import matplotlib.pyplot as plt\n",
    "from scipy.stats import zscore\n",
    "import seaborn as sns\n",
    "import pandas as pd"
   ]
  },
  {
   "cell_type": "code",
   "execution_count": 4,
   "metadata": {},
   "outputs": [],
   "source": [
    "def getChi(data):\n",
    "    N = data.shape[0]\n",
    "    t_max = data.shape[1]\n",
    "    cov = 1/t_max * (data @ data.T) # NxN\n",
    "    # print(cov.shape)\n",
    "    mu = np.mean(data, axis=1) # Nx1\n",
    "    m_ij = np.outer(mu, mu)\n",
    "    # print(m_ij.shape)\n",
    "    c = cov - m_ij # NxN\n",
    "    # print(np.sum(cov))\n",
    "    chiSG = np.sum(c**2, axis=1)\n",
    "    chiUni = np.sum(c, axis=1)\n",
    "    # l, _ = np.linalg.eig(cov)\n",
    "    # chiSG = np.dot(l, l) / N;\n",
    "    # print(chiSG, chiUni)\n",
    "    return chiSG, chiUni, c, cov, mu"
   ]
  },
  {
   "cell_type": "code",
   "execution_count": 5,
   "metadata": {},
   "outputs": [
    {
     "name": "stdout",
     "output_type": "stream",
     "text": [
      "(171,)\n",
      "(176, 116)\n"
     ]
    },
    {
     "name": "stderr",
     "output_type": "stream",
     "text": [
      "/tmp/ipykernel_1937/3088241977.py:3: VisibleDeprecationWarning: Creating an ndarray from ragged nested sequences (which is a list-or-tuple of lists-or-tuples-or ndarrays with different lengths or shapes) is deprecated. If you meant to do this, you must specify 'dtype=object' when creating the ndarray.\n",
      "  timeseries = np.array(timeseries)\n"
     ]
    }
   ],
   "source": [
    "z_ts_files = glob.glob('data/input_data/abide/nyu_aal/*1D')\n",
    "timeseries = [np.loadtxt(i) for i in z_ts_files]\n",
    "timeseries = np.array(timeseries)\n",
    "meta = pd.read_csv('data/metadata.csv')\n",
    "print(timeseries.shape)\n",
    "print(timeseries[0].shape)"
   ]
  },
  {
   "cell_type": "code",
   "execution_count": 6,
   "metadata": {},
   "outputs": [
    {
     "name": "stdout",
     "output_type": "stream",
     "text": [
      "t_max: 137\n",
      "Number of subjects remaining: 145\n"
     ]
    }
   ],
   "source": [
    "datalen = [i.shape[0] for i in timeseries]\n",
    "datalen = np.array(datalen)\n",
    "t_max = range(130, 145, 1)\n",
    "count = []\n",
    "for t in t_max:\n",
    "    c = np.sum(datalen > t)\n",
    "    count.append(c)\n",
    "# plt.plot(t_max, count)\n",
    "t_max = t_max[::-1]\n",
    "count = count[::-1]\n",
    "z = np.array([i*j  for i, j in zip(t_max, count)])\n",
    "# print(list(t_max))\n",
    "# print(count)\n",
    "count = np.array(count)\n",
    "idx = np.argmax(z)\n",
    "print('t_max:', t_max[idx])\n",
    "print('Number of subjects remaining:', count[idx])\n",
    "max_t = t_max[idx]"
   ]
  },
  {
   "cell_type": "code",
   "execution_count": 13,
   "metadata": {},
   "outputs": [
    {
     "data": {
      "text/plain": [
       "'0051156'"
      ]
     },
     "execution_count": 13,
     "metadata": {},
     "output_type": "execute_result"
    }
   ],
   "source": [
    "rois = timeseries[0].shape[1]\n",
    "data_trunc = [] \n",
    "thresholds = {}\n",
    "\n",
    "subids = []\n",
    "for i in z_ts_files: \n",
    "    subid = os.path.basename(i).split('_')[1]\n",
    "    subids.append(int(subid))\n",
    "subid"
   ]
  },
  {
   "cell_type": "code",
   "execution_count": 17,
   "metadata": {},
   "outputs": [
    {
     "data": {
      "text/plain": [
       "False"
      ]
     },
     "execution_count": 17,
     "metadata": {},
     "output_type": "execute_result"
    }
   ],
   "source": [
    "meta[meta['SUB_ID'] == 51156]['DX_GROUP'].iloc[0] == 1"
   ]
  },
  {
   "cell_type": "code",
   "execution_count": 18,
   "metadata": {},
   "outputs": [
    {
     "name": "stdout",
     "output_type": "stream",
     "text": [
      "skipping 50957\n",
      "skipping 50965\n",
      "skipping 50969\n",
      "skipping 50979\n",
      "skipping 50984\n",
      "skipping 50997\n",
      "skipping 50998\n",
      "skipping 51002\n",
      "skipping 51008\n",
      "skipping 51011\n",
      "skipping 51012\n",
      "skipping 51013\n",
      "skipping 51020\n",
      "skipping 51033\n",
      "skipping 51034\n",
      "skipping 51035\n",
      "skipping 51045\n",
      "skipping 51060\n",
      "skipping 51077\n",
      "skipping 51082\n",
      "skipping 51083\n",
      "skipping 51087\n",
      "skipping 51093\n",
      "skipping 51123\n",
      "skipping 51150\n",
      "(146, 116, 137)\n",
      "(89, 116, 137)\n",
      "(57, 116, 137)\n"
     ]
    }
   ],
   "source": [
    "trunc_subids = []\n",
    "cn_timeseries = []\n",
    "asd_timeseries = []\n",
    "for idx, i in enumerate(timeseries):\n",
    "    if i.shape[0] < max_t or i.shape[1] != rois:\n",
    "        print('skipping', subids[idx])\n",
    "        continue\n",
    "    trunc_subids.append(subids[idx])\n",
    "    diag = meta[meta['SUB_ID'] == subids[idx]]['DX_GROUP'].iloc[0]\n",
    "    trunc = i[:max_t, :]\n",
    "    trunc = trunc - np.mean(trunc, axis=0)\n",
    "    s_max = np.max(trunc)\n",
    "    s_min = np.min(trunc)\n",
    "    # print(s_max, s_min)\n",
    "    # point at which the line connecting (s_min, -1) and (s_max, 1) meets x-axis\n",
    "    thres = (s_max + s_min) / 2\n",
    "    thresholds[subids[idx]] = thres\n",
    "    # plt.plot(trunc[:, 0])\n",
    "    # plt.axhline(y=thres, color='black', linestyle='--')\n",
    "    # plt.show()\n",
    "    # print(thres)\n",
    "    binarized = np.where(trunc > thres, 1, -1)\n",
    "    # print(binarized.shape)\n",
    "    data_trunc.append(binarized.T) \n",
    "    if diag == 1:\n",
    "        asd_timeseries.append(binarized.T)\n",
    "    else:\n",
    "        cn_timeseries.append(binarized.T)\n",
    "    # plt.plot(data_trunc[-1][0])\n",
    "    # plt.show()\n",
    "#     data_trunc.append(trunc) \n",
    "data_trunc = np.array(data_trunc)\n",
    "cn_timeseries = np.array(cn_timeseries)\n",
    "asd_timeseries = np.array(asd_timeseries)    \n",
    "print(data_trunc.shape)\n",
    "print(cn_timeseries.shape)\n",
    "print(asd_timeseries.shape)"
   ]
  },
  {
   "cell_type": "code",
   "execution_count": 19,
   "metadata": {},
   "outputs": [
    {
     "name": "stdout",
     "output_type": "stream",
     "text": [
      "(116, 20002)\n",
      "(116, 12193)\n"
     ]
    }
   ],
   "source": [
    "data_concat = np.concatenate(data_trunc, axis=1)\n",
    "cn_concat = np.concatenate(cn_timeseries, axis=1)\n",
    "asd_concat = np.concatenate(asd_timeseries, axis=1)\n",
    "print(data_concat.shape)\n",
    "print(cn_concat.shape)\n",
    "np.savetxt('data/abide_nyu_cn_concat.txt', cn_concat)"
   ]
  },
  {
   "cell_type": "code",
   "execution_count": null,
   "metadata": {},
   "outputs": [],
   "source": []
  }
 ],
 "metadata": {
  "kernelspec": {
   "display_name": "Python 3 (ipykernel)",
   "language": "python",
   "name": "python3"
  },
  "language_info": {
   "codemirror_mode": {
    "name": "ipython",
    "version": 3
   },
   "file_extension": ".py",
   "mimetype": "text/x-python",
   "name": "python",
   "nbconvert_exporter": "python",
   "pygments_lexer": "ipython3",
   "version": "3.8.13"
  }
 },
 "nbformat": 4,
 "nbformat_minor": 2
}
