{
 "cells": [
  {
   "cell_type": "code",
   "execution_count": 1,
   "id": "847f0ce0",
   "metadata": {},
   "outputs": [],
   "source": [
    "import numpy as np\n",
    "import matplotlib.pyplot as plt\n",
    "import os\n",
    "import subprocess\n",
    "import shutil\n",
    "import time\n",
    "from nilearn import datasets\n",
    "from nilearn.image import load_img, index_img\n",
    "from nilearn.plotting import plot_epi\n",
    "from nilearn.maskers import NiftiLabelsMasker\n",
    "# from PyIF import te_compute as te\n",
    "from joblib import delayed, Parallel\n",
    "import pandas as pd\n",
    "from scipy.stats import zscore\n",
    "from scipy.optimize import curve_fit\n",
    "from joblib import Parallel, delayed\n",
    "import glob\n",
    "from utils.data_loader import DataLoader\n",
    "from utils.plotting import plot_voxels, plot_w_fit\n",
    "import scipy.stats as stats\n",
    "# import seaborn as sns"
   ]
  },
  {
   "cell_type": "code",
   "execution_count": 2,
   "id": "025ac6e9",
   "metadata": {},
   "outputs": [],
   "source": [
    "root_dir = '/scratch/shivansh.seth/adni/preproc'\n",
    "SCRATCH_DATA_DIR = '/scratch/shivansh.seth/tmp/'\n",
    "PRINT_TIME_INTERVAL = 20\n",
    "if not os.path.exists(SCRATCH_DATA_DIR): os.makedirs(SCRATCH_DATA_DIR)"
   ]
  },
  {
   "cell_type": "code",
   "execution_count": 3,
   "id": "cbd663f6",
   "metadata": {},
   "outputs": [
    {
     "data": {
      "text/plain": [
       "89"
      ]
     },
     "execution_count": 3,
     "metadata": {},
     "output_type": "execute_result"
    }
   ],
   "source": [
    "# For func output\n",
    "dloader = DataLoader(root_dir)\n",
    "subjects_list = dloader.subjects_list\n",
    "len(dloader.subjects_list)"
   ]
  },
  {
   "cell_type": "code",
   "execution_count": 4,
   "id": "6a5a85bf",
   "metadata": {},
   "outputs": [],
   "source": [
    "rts_res_dir = '/home/shivansh.seth/phase_diagram_analysis/rts_results'\n",
    "rts_fl = []\n",
    "for sub in dloader.subjects_list:\n",
    "    for j in os.listdir(rts_res_dir):\n",
    "        if sub in j:\n",
    "            rts_fl.append(os.path.join('rts_results', j))"
   ]
  },
  {
   "cell_type": "code",
   "execution_count": 15,
   "id": "62ff2c73",
   "metadata": {},
   "outputs": [],
   "source": [
    "rts_results= np.memmap(\n",
    "        os.path.join(SCRATCH_DATA_DIR, 'roi_rts.dat'), \n",
    "        dtype='float32', \n",
    "        mode='w+', \n",
    "        shape=(len(dloader.subjects_list), *dloader.get_func(0).shape[:-1], 5)\n",
    "    )\n",
    "for idx, i in enumerate(rts_fl):\n",
    "    rts = np.load(i)\n",
    "    rts_results[idx] = rts\n",
    "    del rts"
   ]
  },
  {
   "cell_type": "code",
   "execution_count": 16,
   "id": "b5e496e9",
   "metadata": {},
   "outputs": [],
   "source": [
    "og_shape_rts = rts_results.shape\n",
    "rts_results_flat = rts_results.reshape(og_shape_rts[0], -1, 5)\n",
    "og_shape = og_shape_rts[1: -1]\n",
    "## Replacing inf with nan for np.nan* functions\n",
    "rts_results_flat[rts_results_flat==np.inf] = np.nan"
   ]
  },
  {
   "cell_type": "code",
   "execution_count": 17,
   "id": "805e8c9c",
   "metadata": {},
   "outputs": [],
   "source": [
    "roi_rts_rmse = rts_results_flat[:, :, 3]\n",
    "roi_rts_se = rts_results_flat[:, :, 4]\n",
    "roi_rts_taus = rts_results_flat[:, :, 0]"
   ]
  },
  {
   "cell_type": "code",
   "execution_count": 18,
   "id": "4b800ff5",
   "metadata": {},
   "outputs": [],
   "source": [
    "\n",
    "def get_accepted_ranges(rrts):\n",
    "    accepted_ranges = []\n",
    "    q1, q3 = np.nanpercentile(rrts, [25, 75], axis=0)\n",
    "\n",
    "    # Calculate IQR\n",
    "    iqr = q3 - q1\n",
    "\n",
    "    # Calculate lower and upper bounds\n",
    "    lower_bound = q1 - 1.5 * iqr\n",
    "    upper_bound = q3 + 1.5 * iqr\n",
    "\n",
    "    accepted_ranges = np.array((lower_bound, upper_bound))\n",
    "\n",
    "    return accepted_ranges.T\n",
    "\n",
    "def get_outliers(rrts, sub_idxs=None):\n",
    "    accepted_ranges = get_accepted_ranges(rrts)\n",
    "    outliers = []\n",
    "    for i in range(rrts.shape[1]):\n",
    "        rejected_subs = np.where( (rrts[:, i] < accepted_ranges[i][0]) | (rrts[:, i] > accepted_ranges[i][1]) )[0]\n",
    "        nan_subs = np.where(np.isnan(rrts[:, i]))[0]\n",
    "        outliers.append(list(set(list(rejected_subs) + list(nan_subs))))\n",
    "    \n",
    "    # Popping elements not included in subject list without \n",
    "    # disturbing original indices\n",
    "    if not (type(sub_idxs) == type(None)):\n",
    "        for roi_ind in range(len(outliers)):\n",
    "            non_sub_idx_outliers = []\n",
    "            outliers[roi_ind] = list(outliers[roi_ind])\n",
    "\n",
    "            for i in range(len(outliers[roi_ind])):\n",
    "                if outliers[roi_ind][i] not in sub_idxs:\n",
    "                    non_sub_idx_outliers.append(i)\n",
    "            for i in sorted(non_sub_idx_outliers, reverse=True):\n",
    "                del outliers[roi_ind][i]\n",
    "\n",
    "    return outliers"
   ]
  },
  {
   "cell_type": "code",
   "execution_count": 10,
   "id": "92b3fa50",
   "metadata": {},
   "outputs": [],
   "source": [
    "accepted_ranges = get_accepted_ranges(roi_rts_taus)"
   ]
  },
  {
   "cell_type": "code",
   "execution_count": 12,
   "id": "1b753284",
   "metadata": {},
   "outputs": [
    {
     "data": {
      "image/png": "[encoded data removed]",
      "text/plain": [
       "<Figure size 640x480 with 1 Axes>"
      ]
     },
     "metadata": {},
     "output_type": "display_data"
    },
    {
     "ename": "NameError",
     "evalue": "name 'rrts' is not defined",
     "output_type": "error",
     "traceback": [
      "\u001b[0;31m---------------------------------------------------------------------------\u001b[0m",
      "\u001b[0;31mNameError\u001b[0m                                 Traceback (most recent call last)",
      "Cell \u001b[0;32mIn[12], line 10\u001b[0m\n\u001b[1;32m      8\u001b[0m plt\u001b[38;5;241m.\u001b[39mtitle(\u001b[38;5;124mf\u001b[39m\u001b[38;5;124m'\u001b[39m\u001b[38;5;124m$\u001b[39m\u001b[38;5;130;01m\\\\\u001b[39;00m\u001b[38;5;124mtau$ Distribution for Voxel: \u001b[39m\u001b[38;5;132;01m{\u001b[39;00mroi_idx\u001b[38;5;132;01m}\u001b[39;00m\u001b[38;5;124m'\u001b[39m)\n\u001b[1;32m      9\u001b[0m plt\u001b[38;5;241m.\u001b[39mshow()\n\u001b[0;32m---> 10\u001b[0m n_outliers \u001b[38;5;241m=\u001b[39m np\u001b[38;5;241m.\u001b[39msum(\u001b[43mrrts\u001b[49m[:, roi_idx] \u001b[38;5;241m>\u001b[39m accepted_ranges[roi_idx, \u001b[38;5;241m1\u001b[39m]) \u001b[38;5;241m+\u001b[39m \\\n\u001b[1;32m     11\u001b[0m              np\u001b[38;5;241m.\u001b[39msum(rrts[:, roi_idx] \u001b[38;5;241m<\u001b[39m accepted_ranges[roi_idx, \u001b[38;5;241m0\u001b[39m])\n\u001b[1;32m     12\u001b[0m \u001b[38;5;28mprint\u001b[39m(\u001b[38;5;124m'\u001b[39m\u001b[38;5;124mNumber of outliers:\u001b[39m\u001b[38;5;124m'\u001b[39m, n_outliers)\n",
      "\u001b[0;31mNameError\u001b[0m: name 'rrts' is not defined"
     ]
    }
   ],
   "source": [
    "# roi_idx = 164109 # high tau idx\n",
    "roi_idx = 0\n",
    "plt.hist(roi_rts_taus[:, roi_idx], bins=30)\n",
    "plt.axvline(accepted_ranges[roi_idx, 0], color='r', linestyle='--')\n",
    "plt.axvline(accepted_ranges[roi_idx, 1], color='r', linestyle='--')\n",
    "plt.xlabel('$\\\\tau$')\n",
    "plt.ylabel('Freq')\n",
    "plt.title(f'$\\\\tau$ Distribution for Voxel: {roi_idx}')\n",
    "plt.show()\n",
    "n_outliers = np.sum(roi_rts_taus[:, roi_idx] > accepted_ranges[roi_idx, 1]) + \\\n",
    "             np.sum(roi_rts_taus[:, roi_idx] < accepted_ranges[roi_idx, 0])\n",
    "print('Number of outliers:', n_outliers)"
   ]
  },
  {
   "cell_type": "code",
   "execution_count": 10,
   "id": "f63ce2f7",
   "metadata": {},
   "outputs": [],
   "source": [
    "def fix_outliers(inp_rrts, outliers):\n",
    "    '''\n",
    "    Outputs array after setting all outliers and all NaNs to the mean values\n",
    "    '''\n",
    "    rrts = np.array(inp_rrts)\n",
    "    \n",
    "    for i in range(rrts.shape[1]):\n",
    "        rrts[outliers[i], i] = np.nan\n",
    "#     for i in range(rrts.shape[1]):\n",
    "#         rrts[np.isnan(rrts[:, i]), i] = np.nanmean(rrts[:, i])\n",
    "    return rrts"
   ]
  },
  {
   "cell_type": "code",
   "execution_count": 11,
   "id": "e41f554e",
   "metadata": {},
   "outputs": [],
   "source": [
    "cn_roi_rts = np.array([ roi_rts_taus[i] for i in range(roi_rts_taus.shape[0]) if dloader.diag[i] == 0 ])\n",
    "ad_roi_rts = np.array([ roi_rts_taus[i] for i in range(roi_rts_taus.shape[0]) if dloader.diag[i] == 1 ])"
   ]
  },
  {
   "cell_type": "markdown",
   "id": "b3006b7e",
   "metadata": {},
   "source": [
    "## P value calculation"
   ]
  },
  {
   "cell_type": "code",
   "execution_count": 16,
   "id": "25611610",
   "metadata": {},
   "outputs": [
    {
     "name": "stdout",
     "output_type": "stream",
     "text": [
      "0 10000 20000 30000 40000 50000 60000 70000 80000 90000 100000 110000 120000 130000 140000 150000 160000 170000 180000 190000 200000 210000 220000 t-statistic:  [2.38831771 2.35755533 2.35465721 ... 2.38810169 2.38810169 2.38810169]\n",
      "p-value:  [0.02365687 0.02535631 0.02552202 ... 0.02366844 0.02366844 0.02366844]\n"
     ]
    },
    {
     "data": {
      "text/plain": [
       "((228939,), (228939,))"
      ]
     },
     "execution_count": 16,
     "metadata": {},
     "output_type": "execute_result"
    }
   ],
   "source": [
    "# t_stat, p_value = [], []\n",
    "# s1_rts_mean, s2_rts_mean = [], []\n",
    "# s1_n_outliers, s2_n_outliers = [], []\n",
    "# for roi_idx in range(s1_rts.shape[1]):\n",
    "#     # counting outliers\n",
    "#     s1_n_outliers.append(np.sum(~np.isnan(s1_rts[:, roi_idx])))\n",
    "#     s2_n_outliers.append(np.sum(~np.isnan(s2_rts[:, roi_idx])))\n",
    "    \n",
    "#     # removing all nan values\n",
    "#     s1_roi = s1_rts[:, roi_idx]\n",
    "#     s2_roi = s2_rts[:, roi_idx]\n",
    "#     s1_roi = s1_roi[~np.isnan(s1_roi)]    \n",
    "#     s2_roi = s2_roi[~np.isnan(s2_roi)]\n",
    "    \n",
    "#     # mean without nans (can use np.nanmean directly)\n",
    "#     s1_rts_mean.append(np.mean(s1_roi))    \n",
    "#     s2_rts_mean.append(np.mean(s2_roi))\n",
    "    \n",
    "#     # t-test for roi\n",
    "#     t, p = stats.ttest_ind(s1_roi, s2_roi)\n",
    "#     t_stat.append(t), p_value.append(p)\n",
    "    \n",
    "#     if roi_idx%10000 == 0:\n",
    "#         print(roi_idx, end=\" \", flush=True)\n",
    "\n",
    "# s1_rts_mean = np.array(s1_rts_mean)\n",
    "# s2_rts_mean = np.array(s2_rts_mean)\n",
    "\n",
    "# p_value = np.array(p_value)\n",
    "# t_stat = np.array(t_stat)\n",
    "\n",
    "# # Print the results\n",
    "# print(\"t-statistic: \", t_stat)\n",
    "# print(\"p-value: \", p_value)\n",
    "# p_value.shape, t_stat.shape"
   ]
  },
  {
   "cell_type": "code",
   "execution_count": 13,
   "id": "4937f0f6",
   "metadata": {},
   "outputs": [],
   "source": [
    "def calc_p_value(s1, s2):\n",
    "\n",
    "    s1_outliers = get_outliers(s1)\n",
    "    s2_outliers = get_outliers(s2)\n",
    "    s1_rts = fix_outliers(s1, s1_outliers)\n",
    "    s2_rts = fix_outliers(s2, s2_outliers)\n",
    "\n",
    "#     s = np.vstack((s1, s2)).shape\n",
    "#     s1_idx = len(s1)\n",
    "#     s_outliers = get_outliers(s)\n",
    "#     s_rts = fix_outlier(s, s_outliers)\n",
    "#     s1_rts = s[:s1_idx]\n",
    "#     s2_rts = s[s1_idx:]\n",
    "    \n",
    "    t_stat, p_value = [], []\n",
    "    s1_rts_mean, s2_rts_mean = [], []\n",
    "    s1_n_outliers, s2_n_outliers = [], []\n",
    "    for roi_idx in range(s1_rts.shape[1]):\n",
    "        # counting outliers\n",
    "        s1_n_outliers.append(np.sum(~np.isnan(s1_rts[:, roi_idx])))\n",
    "        s2_n_outliers.append(np.sum(~np.isnan(s2_rts[:, roi_idx])))\n",
    "\n",
    "        # removing all nan values\n",
    "        s1_roi = s1_rts[:, roi_idx]\n",
    "        s2_roi = s2_rts[:, roi_idx]\n",
    "        s1_roi = s1_roi[~np.isnan(s1_roi)]    \n",
    "        s2_roi = s2_roi[~np.isnan(s2_roi)]\n",
    "\n",
    "        # mean without nans (can use np.nanmean directly)\n",
    "        s1_rts_mean.append(np.mean(s1_roi))    \n",
    "        s2_rts_mean.append(np.mean(s2_roi))\n",
    "\n",
    "        # t-test for roi\n",
    "        t, p = stats.ttest_ind(s1_roi, s2_roi)\n",
    "        t_stat.append(t), p_value.append(p)\n",
    "\n",
    "        if roi_idx%10000 == 0:\n",
    "            print(roi_idx, end=\" \", flush=True)\n",
    "\n",
    "    s1_rts_mean = np.array(s1_rts_mean)\n",
    "    s2_rts_mean = np.array(s2_rts_mean)\n",
    "\n",
    "    p_value = np.array(p_value)\n",
    "    t_stat = np.array(t_stat)\n",
    "    return p_value, t_stat, s1_rts_mean, s2_rts_mean"
   ]
  },
  {
   "cell_type": "code",
   "execution_count": 19,
   "id": "3959dbec",
   "metadata": {},
   "outputs": [],
   "source": [
    "cn_roi_rts = np.array([ roi_rts_taus[i] for i in range(roi_rts_taus.shape[0]) if dloader.diag[i] == 0 ])\n",
    "cn_subs = [dloader.subjects_list[i] for i in range(roi_rts_taus.shape[0]) if dloader.diag[i] == 0]\n",
    "ad_roi_rts = np.array([ roi_rts_taus[i] for i in range(roi_rts_taus.shape[0]) if dloader.diag[i] == 1 ])\n",
    "ad_subs = [dloader.subjects_list[i] for i in range(roi_rts_taus.shape[0]) if dloader.diag[i] == 1]"
   ]
  },
  {
   "cell_type": "code",
   "execution_count": 32,
   "id": "f946c3c5",
   "metadata": {},
   "outputs": [
    {
     "name": "stdout",
     "output_type": "stream",
     "text": [
      "(17, 228939) (17, 228939)\n"
     ]
    },
    {
     "data": {
      "text/plain": [
       "(34, 228939)"
      ]
     },
     "execution_count": 32,
     "metadata": {},
     "output_type": "execute_result"
    }
   ],
   "source": [
    "print(s1.shape, s2.shape)\n"
   ]
  },
  {
   "cell_type": "code",
   "execution_count": 20,
   "id": "72b2562b",
   "metadata": {},
   "outputs": [
    {
     "ename": "NameError",
     "evalue": "name 'fix_outliers' is not defined",
     "output_type": "error",
     "traceback": [
      "\u001b[0;31m---------------------------------------------------------------------------\u001b[0m",
      "\u001b[0;31mNameError\u001b[0m                                 Traceback (most recent call last)",
      "Cell \u001b[0;32mIn[20], line 11\u001b[0m\n\u001b[1;32m      9\u001b[0m s1 \u001b[38;5;241m=\u001b[39m cn_roi_rts[indices[:split_idx]]\n\u001b[1;32m     10\u001b[0m s2 \u001b[38;5;241m=\u001b[39m cn_roi_rts[indices[split_idx:]]\n\u001b[0;32m---> 11\u001b[0m p_value, t_stat, s1_rts_mean, s2_rts_mean \u001b[38;5;241m=\u001b[39m \u001b[43mcalc_p_value\u001b[49m\u001b[43m(\u001b[49m\u001b[43ms1\u001b[49m\u001b[43m,\u001b[49m\u001b[43m \u001b[49m\u001b[43ms2\u001b[49m\u001b[43m)\u001b[49m\n\u001b[1;32m     12\u001b[0m p_vals\u001b[38;5;241m.\u001b[39mappend(p_value)\n\u001b[1;32m     13\u001b[0m t_stats\u001b[38;5;241m.\u001b[39mappend(t_stat)\n",
      "Cell \u001b[0;32mIn[13], line 5\u001b[0m, in \u001b[0;36mcalc_p_value\u001b[0;34m(s1, s2)\u001b[0m\n\u001b[1;32m      3\u001b[0m     s1_outliers \u001b[38;5;241m=\u001b[39m get_outliers(s1)\n\u001b[1;32m      4\u001b[0m     s2_outliers \u001b[38;5;241m=\u001b[39m get_outliers(s2)\n\u001b[0;32m----> 5\u001b[0m     s1_rts \u001b[38;5;241m=\u001b[39m \u001b[43mfix_outliers\u001b[49m(s1, s1_outliers)\n\u001b[1;32m      6\u001b[0m     s2_rts \u001b[38;5;241m=\u001b[39m fix_outliers(s2, s2_outliers)\n\u001b[1;32m      8\u001b[0m \u001b[38;5;66;03m#     s = np.vstack((s1, s2)).shape\u001b[39;00m\n\u001b[1;32m      9\u001b[0m \u001b[38;5;66;03m#     s1_idx = len(s1)\u001b[39;00m\n\u001b[1;32m     10\u001b[0m \u001b[38;5;66;03m#     s_outliers = get_outliers(s)\u001b[39;00m\n\u001b[1;32m     11\u001b[0m \u001b[38;5;66;03m#     s_rts = fix_outlier(s, s_outliers)\u001b[39;00m\n\u001b[1;32m     12\u001b[0m \u001b[38;5;66;03m#     s1_rts = s[:s1_idx]\u001b[39;00m\n\u001b[1;32m     13\u001b[0m \u001b[38;5;66;03m#     s2_rts = s[s1_idx:]\u001b[39;00m\n",
      "\u001b[0;31mNameError\u001b[0m: name 'fix_outliers' is not defined"
     ]
    }
   ],
   "source": [
    "trials = 1\n",
    "p_vals = []\n",
    "t_stats = []\n",
    "s1_means, s2_means = [], []\n",
    "sig_rois = []\n",
    "for i in range(trials):\n",
    "    indices = np.random.permutation(len(cn_roi_rts))\n",
    "    split_idx = int(len(cn_roi_rts) * 0.5) # splitting the array in half\n",
    "    s1 = cn_roi_rts[indices[:split_idx]]\n",
    "    s2 = cn_roi_rts[indices[split_idx:]]\n",
    "    p_value, t_stat, s1_rts_mean, s2_rts_mean = calc_p_value(s1, s2)\n",
    "    p_vals.append(p_value)\n",
    "    t_stats.append(t_stat)\n",
    "    s1_means.append(s1_rts_mean)\n",
    "    s2_means.append(s2_rts_mean)\n",
    "    sig_rois.append(len(list(np.where(p_value<0.05)[0])))"
   ]
  },
  {
   "cell_type": "code",
   "execution_count": null,
   "id": "831cbbab",
   "metadata": {},
   "outputs": [],
   "source": [
    "s1_means = np.array(s1_means)\n",
    "s2_means = np.array(s2_means)\n",
    "s1_rts_mean = np.mean(s1_means, axis=0)\n",
    "s2_rts_mean = np.mean(s2_means, axis=0)"
   ]
  },
  {
   "cell_type": "code",
   "execution_count": null,
   "id": "401bb1d2",
   "metadata": {},
   "outputs": [],
   "source": [
    "for i in range(trials):\n",
    "    plt.hist(s1_means[i], label='Split1', alpha=1, bins=50)\n",
    "    plt.hist(s2_means[i], label='Split2', alpha=0.3, bins=50)\n",
    "    plt.legend()\n",
    "    plt.xlabel(\"$<\\\\tau>$\")\n",
    "    plt.ylabel(\"$n_{ROI}$\")\n",
    "    plt.show()"
   ]
  },
  {
   "cell_type": "code",
   "execution_count": 29,
   "id": "3d9a7a16",
   "metadata": {},
   "outputs": [
    {
     "data": {
      "text/plain": [
       "[20869, 36489, 22260, 25635, 31266]"
      ]
     },
     "execution_count": 29,
     "metadata": {},
     "output_type": "execute_result"
    }
   ],
   "source": [
    "sig_rois"
   ]
  },
  {
   "cell_type": "code",
   "execution_count": 28,
   "id": "84512ed9",
   "metadata": {
    "scrolled": false
   },
   "outputs": [
    {
     "data": {
      "text/plain": [
       "(27303.8, 5825.777043450942)"
      ]
     },
     "execution_count": 28,
     "metadata": {},
     "output_type": "execute_result"
    }
   ],
   "source": [
    "np.mean(sig_rois), np.std(sig_rois)"
   ]
  },
  {
   "cell_type": "code",
   "execution_count": 14,
   "id": "817d64af",
   "metadata": {},
   "outputs": [],
   "source": [
    "s1_rts = fix_outliers(s1, s1_outliers)\n",
    "s2_rts = fix_outliers(s2, s2_outliers)"
   ]
  },
  {
   "cell_type": "code",
   "execution_count": 15,
   "id": "fb3c2fe0",
   "metadata": {},
   "outputs": [
    {
     "data": {
      "text/plain": [
       "((17, 228939), (17, 228939))"
      ]
     },
     "execution_count": 15,
     "metadata": {},
     "output_type": "execute_result"
    }
   ],
   "source": [
    "s1_rts.shape, s2_rts.shape"
   ]
  },
  {
   "cell_type": "code",
   "execution_count": 17,
   "id": "f3541eb0",
   "metadata": {},
   "outputs": [
    {
     "data": {
      "image/png": "[encoded data removed]",
      "text/plain": [
       "<Figure size 640x480 with 1 Axes>"
      ]
     },
     "metadata": {},
     "output_type": "display_data"
    }
   ],
   "source": [
    "plt.hist(s1_rts_mean, label='AD', alpha=1, bins=50)\n",
    "plt.hist(s2_rts_mean, label='CN', alpha=0.3, bins=50)\n",
    "plt.legend()\n",
    "plt.xlabel(\"$<\\\\tau>$\")\n",
    "plt.ylabel(\"$n_{ROI}$\")\n",
    "plt.show()"
   ]
  },
  {
   "cell_type": "code",
   "execution_count": 18,
   "id": "485b4551",
   "metadata": {},
   "outputs": [
    {
     "name": "stdout",
     "output_type": "stream",
     "text": [
      "Significant RoIs: 114926\n"
     ]
    }
   ],
   "source": [
    "sig_rois = list(np.where(p_value<0.05)[0])\n",
    "print(\"Significant RoIs:\", len(sig_rois))"
   ]
  },
  {
   "cell_type": "code",
   "execution_count": null,
   "id": "599e68cb",
   "metadata": {},
   "outputs": [],
   "source": [
    "from matplotlib.patches import Patch\n",
    "\n",
    "fig, ax = plt.subplots()\n",
    "\n",
    "roi_start, roi_end = 1000, 1020\n",
    "bp1 = ax.boxplot(cn_roi_rts[:, sig_rois[:20]], patch_artist=True)\n",
    "# bp1 = ax.boxplot(np.array(rrts[:, roi_start:roi_end]), patch_artist=True)\n",
    "# bp1 = ax.boxplot(np.array(cn_roi_rts[:, roi_start:roi_end]), patch_artist=True)\n",
    "roi_start:roi_end\n",
    "\n",
    "box_colors = ['red',]\n",
    "median_colors = ['blue', ]\n",
    "for bplot, box_color, median_color in zip([bp1,], box_colors, median_colors):\n",
    "    # change box color\n",
    "    for patch in bplot['boxes']:\n",
    "        patch.set_facecolor(box_color)\n",
    "    # change median color\n",
    "    for line in bplot['medians']:\n",
    "        line.set_color(median_color)\n",
    "        \n",
    "color_patches = [ Patch(facecolor=box_colors[0], label=f'All'), ]\n",
    "ax.legend(handles=color_patches)\n",
    "fig.set_size_inches(15, 5)\n",
    "# plt.ylim(0, 10)\n",
    "\n",
    "plt.show()"
   ]
  },
  {
   "cell_type": "code",
   "execution_count": null,
   "id": "d60514c8",
   "metadata": {},
   "outputs": [],
   "source": []
  }
 ],
 "metadata": {
  "kernelspec": {
   "display_name": "Python 3 (ipykernel)",
   "language": "python",
   "name": "python3"
  },
  "language_info": {
   "codemirror_mode": {
    "name": "ipython",
    "version": 3
   },
   "file_extension": ".py",
   "mimetype": "text/x-python",
   "name": "python",
   "nbconvert_exporter": "python",
   "pygments_lexer": "ipython3",
   "version": "3.10.9"
  }
 },
 "nbformat": 4,
 "nbformat_minor": 5
}
